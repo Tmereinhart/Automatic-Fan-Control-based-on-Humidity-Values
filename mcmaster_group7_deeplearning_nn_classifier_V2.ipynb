{
  "nbformat": 4,
  "nbformat_minor": 0,
  "metadata": {
    "kernelspec": {
      "display_name": "Python 3",
      "language": "python",
      "name": "python3"
    },
    "language_info": {
      "codemirror_mode": {
        "name": "ipython",
        "version": 3
      },
      "file_extension": ".py",
      "mimetype": "text/x-python",
      "name": "python",
      "nbconvert_exporter": "python",
      "pygments_lexer": "ipython3",
      "version": "3.7.3"
    },
    "colab": {
      "name": "mcmaster_group7_deeplearning-nn-classifier_V2.ipynb",
      "provenance": [],
      "collapsed_sections": []
    }
  },
  "cells": [
    {
      "cell_type": "markdown",
      "metadata": {
        "id": "rBGehyPDLmSZ"
      },
      "source": [
        "Data Import - Downloads data from Edge Impuse via API"
      ]
    },
    {
      "cell_type": "code",
      "metadata": {
        "id": "-IqgYhDGLmSf"
      },
      "source": [
        "import numpy as np\n",
        "import requests\n",
        "\n",
        "API_KEY = 'ei_9d920386ef03de587f12abfd0f3cd9e400cd520c12ef669c5dd6299d6b0763b6'\n",
        "\n",
        "def download_data(url):\n",
        "    response = requests.get(url, headers={'x-api-key': API_KEY})\n",
        "    if response.status_code == 200:\n",
        "        return response.content\n",
        "    else:\n",
        "        print(response.content)\n",
        "        raise ConnectionError('Could not download data file')\n",
        "\n",
        "X = download_data('https://studio.edgeimpulse.com/v1/api/43415/training/5/x')\n",
        "Y = download_data('https://studio.edgeimpulse.com/v1/api/43415/training/5/y')\n"
      ],
      "execution_count": 98,
      "outputs": []
    },
    {
      "cell_type": "markdown",
      "metadata": {
        "id": "HuPIoHVFLmSh"
      },
      "source": [
        "Temperary file store, use Numpy to load it back."
      ]
    },
    {
      "cell_type": "code",
      "metadata": {
        "id": "WWpAEB97LmSi"
      },
      "source": [
        "with open('x_train.npy', 'wb') as file:\n",
        "    file.write(X)\n",
        "with open('y_train.npy', 'wb') as file:\n",
        "    file.write(Y)\n",
        "X = np.load('x_train.npy')\n",
        "Y = np.load('y_train.npy')[:,0]"
      ],
      "execution_count": 99,
      "outputs": []
    },
    {
      "cell_type": "markdown",
      "metadata": {
        "id": "jX6OsE7bLmSj"
      },
      "source": [
        "Create data and split Data between Training and Validation Set:"
      ]
    },
    {
      "cell_type": "code",
      "metadata": {
        "id": "YOI_yZYiLmSk"
      },
      "source": [
        "import sys, os, random\n",
        "import tensorflow as tf\n",
        "from sklearn.model_selection import train_test_split\n",
        "\n",
        "import logging\n",
        "tf.get_logger().setLevel(logging.ERROR)\n",
        "os.environ['TF_CPP_MIN_LOG_LEVEL'] = '2'\n",
        "\n",
        "# Set random seeds for repeatable results\n",
        "RANDOM_SEED = 3\n",
        "random.seed(RANDOM_SEED)\n",
        "np.random.seed(RANDOM_SEED)\n",
        "tf.random.set_seed(RANDOM_SEED)\n",
        "\n",
        "classes_values = [ \"Fan OFF\", \"Fan ON\" ]\n",
        "classes = len(classes_values)\n",
        "\n",
        "Y = tf.keras.utils.to_categorical(Y - 1, classes)\n",
        "\n",
        "X_train, X_test, Y_train, Y_test = train_test_split(X, Y, test_size=0.2, random_state=1)\n",
        "\n",
        "input_length = X_train[0].shape[0]\n",
        "\n",
        "train_dataset = tf.data.Dataset.from_tensor_slices((X_train, Y_train))\n",
        "validation_dataset = tf.data.Dataset.from_tensor_slices((X_test, Y_test))\n",
        "\n",
        "def get_reshape_function(reshape_to):\n",
        "    def reshape(image, label):\n",
        "        return tf.reshape(image, reshape_to), label\n",
        "    return reshape\n",
        "\n",
        "callbacks = []\n"
      ],
      "execution_count": 100,
      "outputs": []
    },
    {
      "cell_type": "markdown",
      "metadata": {
        "id": "WrOCPzPGLmSl"
      },
      "source": [
        "Model Training:"
      ]
    },
    {
      "cell_type": "code",
      "metadata": {
        "colab": {
          "base_uri": "https://localhost:8080/"
        },
        "id": "QqB4k_cJLmSm",
        "outputId": "ce6b2309-711c-4e48-a8fd-b78e1fc7cd69"
      },
      "source": [
        "import tensorflow as tf\n",
        "from tensorflow.keras.models import Sequential\n",
        "from tensorflow.keras.layers import Dense, InputLayer, Dropout, Conv1D, Conv2D, Flatten, Reshape, MaxPooling1D, MaxPooling2D, BatchNormalization\n",
        "from tensorflow.keras.optimizers import Adam\n",
        "\n",
        "# model architecture\n",
        "model = Sequential()\n",
        "model.add(Dense(20, activation='relu',\n",
        "    activity_regularizer=tf.keras.regularizers.l1(0.00001)))\n",
        "model.add(Dense(10, activation='relu',\n",
        "    activity_regularizer=tf.keras.regularizers.l1(0.00001)))\n",
        "model.add(Dense(classes, activation='softmax', name='y_pred'))\n",
        "\n",
        "# this controls the learning rate\n",
        "opt = Adam(lr=0.0005, beta_1=0.9, beta_2=0.999)\n",
        "# this controls the batch size, or you can manipulate the tf.data.Dataset objects yourself\n",
        "BATCH_SIZE = 32\n",
        "train_dataset = train_dataset.batch(BATCH_SIZE, drop_remainder=False)\n",
        "validation_dataset = validation_dataset.batch(BATCH_SIZE, drop_remainder=False)\n",
        "\n",
        "# train the neural network\n",
        "model.compile(loss='categorical_crossentropy', optimizer=opt, metrics=['accuracy'])\n",
        "model.fit(train_dataset, epochs=30, validation_data=validation_dataset, verbose=2, callbacks=callbacks)\n",
        "\n",
        "history_1=model.fit(train_dataset, epochs=30, validation_data=validation_dataset, verbose=2, callbacks=callbacks)"
      ],
      "execution_count": 101,
      "outputs": [
        {
          "output_type": "stream",
          "text": [
            "/usr/local/lib/python3.7/dist-packages/tensorflow/python/keras/optimizer_v2/optimizer_v2.py:375: UserWarning: The `lr` argument is deprecated, use `learning_rate` instead.\n",
            "  \"The `lr` argument is deprecated, use `learning_rate` instead.\")\n"
          ],
          "name": "stderr"
        },
        {
          "output_type": "stream",
          "text": [
            "Epoch 1/30\n",
            "1/1 - 1s - loss: 2.2207 - accuracy: 0.5417 - val_loss: 2.6433 - val_accuracy: 0.3333\n",
            "Epoch 2/30\n",
            "1/1 - 0s - loss: 2.0149 - accuracy: 0.5417 - val_loss: 2.3634 - val_accuracy: 0.3333\n",
            "Epoch 3/30\n",
            "1/1 - 0s - loss: 1.8109 - accuracy: 0.5417 - val_loss: 2.0884 - val_accuracy: 0.3333\n",
            "Epoch 4/30\n",
            "1/1 - 0s - loss: 1.6105 - accuracy: 0.5417 - val_loss: 1.8202 - val_accuracy: 0.3333\n",
            "Epoch 5/30\n",
            "1/1 - 0s - loss: 1.4152 - accuracy: 0.5417 - val_loss: 1.5618 - val_accuracy: 0.3333\n",
            "Epoch 6/30\n",
            "1/1 - 0s - loss: 1.2269 - accuracy: 0.5417 - val_loss: 1.3175 - val_accuracy: 0.3333\n",
            "Epoch 7/30\n",
            "1/1 - 0s - loss: 1.0492 - accuracy: 0.5417 - val_loss: 1.0931 - val_accuracy: 0.3333\n",
            "Epoch 8/30\n",
            "1/1 - 0s - loss: 0.8863 - accuracy: 0.5417 - val_loss: 0.8968 - val_accuracy: 0.3333\n",
            "Epoch 9/30\n",
            "1/1 - 0s - loss: 0.7442 - accuracy: 0.5417 - val_loss: 0.7320 - val_accuracy: 0.3333\n",
            "Epoch 10/30\n",
            "1/1 - 0s - loss: 0.6301 - accuracy: 0.5417 - val_loss: 0.6025 - val_accuracy: 0.5000\n",
            "Epoch 11/30\n",
            "1/1 - 0s - loss: 0.5463 - accuracy: 0.6250 - val_loss: 0.5123 - val_accuracy: 1.0000\n",
            "Epoch 12/30\n",
            "1/1 - 0s - loss: 0.4975 - accuracy: 0.8750 - val_loss: 0.4586 - val_accuracy: 1.0000\n",
            "Epoch 13/30\n",
            "1/1 - 0s - loss: 0.4820 - accuracy: 1.0000 - val_loss: 0.4342 - val_accuracy: 1.0000\n",
            "Epoch 14/30\n",
            "1/1 - 0s - loss: 0.4925 - accuracy: 0.9583 - val_loss: 0.4296 - val_accuracy: 0.6667\n",
            "Epoch 15/30\n",
            "1/1 - 0s - loss: 0.5192 - accuracy: 0.6250 - val_loss: 0.4359 - val_accuracy: 0.6667\n",
            "Epoch 16/30\n",
            "1/1 - 0s - loss: 0.5519 - accuracy: 0.5417 - val_loss: 0.4461 - val_accuracy: 0.6667\n",
            "Epoch 17/30\n",
            "1/1 - 0s - loss: 0.5825 - accuracy: 0.5417 - val_loss: 0.4557 - val_accuracy: 0.6667\n",
            "Epoch 18/30\n",
            "1/1 - 0s - loss: 0.6053 - accuracy: 0.5417 - val_loss: 0.4611 - val_accuracy: 0.6667\n",
            "Epoch 19/30\n",
            "1/1 - 0s - loss: 0.6177 - accuracy: 0.5417 - val_loss: 0.4614 - val_accuracy: 0.6667\n",
            "Epoch 20/30\n",
            "1/1 - 0s - loss: 0.6189 - accuracy: 0.5417 - val_loss: 0.4569 - val_accuracy: 0.6667\n",
            "Epoch 21/30\n",
            "1/1 - 0s - loss: 0.6099 - accuracy: 0.5417 - val_loss: 0.4489 - val_accuracy: 0.6667\n",
            "Epoch 22/30\n",
            "1/1 - 0s - loss: 0.5928 - accuracy: 0.5417 - val_loss: 0.4390 - val_accuracy: 0.6667\n",
            "Epoch 23/30\n",
            "1/1 - 0s - loss: 0.5703 - accuracy: 0.5417 - val_loss: 0.4292 - val_accuracy: 0.6667\n",
            "Epoch 24/30\n",
            "1/1 - 0s - loss: 0.5453 - accuracy: 0.5417 - val_loss: 0.4214 - val_accuracy: 0.6667\n",
            "Epoch 25/30\n",
            "1/1 - 0s - loss: 0.5206 - accuracy: 0.5833 - val_loss: 0.4173 - val_accuracy: 0.8333\n",
            "Epoch 26/30\n",
            "1/1 - 0s - loss: 0.4989 - accuracy: 0.6667 - val_loss: 0.4179 - val_accuracy: 1.0000\n",
            "Epoch 27/30\n",
            "1/1 - 0s - loss: 0.4819 - accuracy: 0.9583 - val_loss: 0.4237 - val_accuracy: 1.0000\n",
            "Epoch 28/30\n",
            "1/1 - 0s - loss: 0.4709 - accuracy: 0.9583 - val_loss: 0.4344 - val_accuracy: 1.0000\n",
            "Epoch 29/30\n",
            "1/1 - 0s - loss: 0.4658 - accuracy: 1.0000 - val_loss: 0.4486 - val_accuracy: 1.0000\n",
            "Epoch 30/30\n",
            "1/1 - 0s - loss: 0.4659 - accuracy: 1.0000 - val_loss: 0.4646 - val_accuracy: 1.0000\n",
            "Epoch 1/30\n",
            "1/1 - 0s - loss: 0.4697 - accuracy: 1.0000 - val_loss: 0.4803 - val_accuracy: 1.0000\n",
            "Epoch 2/30\n",
            "1/1 - 0s - loss: 0.4754 - accuracy: 0.8750 - val_loss: 0.4936 - val_accuracy: 1.0000\n",
            "Epoch 3/30\n",
            "1/1 - 0s - loss: 0.4812 - accuracy: 0.8333 - val_loss: 0.5032 - val_accuracy: 1.0000\n",
            "Epoch 4/30\n",
            "1/1 - 0s - loss: 0.4857 - accuracy: 0.7500 - val_loss: 0.5078 - val_accuracy: 1.0000\n",
            "Epoch 5/30\n",
            "1/1 - 0s - loss: 0.4878 - accuracy: 0.6667 - val_loss: 0.5074 - val_accuracy: 1.0000\n",
            "Epoch 6/30\n",
            "1/1 - 0s - loss: 0.4872 - accuracy: 0.6667 - val_loss: 0.5022 - val_accuracy: 1.0000\n",
            "Epoch 7/30\n",
            "1/1 - 0s - loss: 0.4841 - accuracy: 0.7500 - val_loss: 0.4931 - val_accuracy: 1.0000\n",
            "Epoch 8/30\n",
            "1/1 - 0s - loss: 0.4790 - accuracy: 0.7917 - val_loss: 0.4812 - val_accuracy: 1.0000\n",
            "Epoch 9/30\n",
            "1/1 - 0s - loss: 0.4726 - accuracy: 0.8750 - val_loss: 0.4678 - val_accuracy: 1.0000\n",
            "Epoch 10/30\n",
            "1/1 - 0s - loss: 0.4659 - accuracy: 0.8750 - val_loss: 0.4542 - val_accuracy: 1.0000\n",
            "Epoch 11/30\n",
            "1/1 - 0s - loss: 0.4598 - accuracy: 0.9583 - val_loss: 0.4413 - val_accuracy: 1.0000\n",
            "Epoch 12/30\n",
            "1/1 - 0s - loss: 0.4547 - accuracy: 1.0000 - val_loss: 0.4298 - val_accuracy: 1.0000\n",
            "Epoch 13/30\n",
            "1/1 - 0s - loss: 0.4512 - accuracy: 1.0000 - val_loss: 0.4202 - val_accuracy: 1.0000\n",
            "Epoch 14/30\n",
            "1/1 - 0s - loss: 0.4492 - accuracy: 1.0000 - val_loss: 0.4125 - val_accuracy: 1.0000\n",
            "Epoch 15/30\n",
            "1/1 - 0s - loss: 0.4484 - accuracy: 1.0000 - val_loss: 0.4066 - val_accuracy: 1.0000\n",
            "Epoch 16/30\n",
            "1/1 - 0s - loss: 0.4486 - accuracy: 1.0000 - val_loss: 0.4022 - val_accuracy: 1.0000\n",
            "Epoch 17/30\n",
            "1/1 - 0s - loss: 0.4492 - accuracy: 1.0000 - val_loss: 0.3990 - val_accuracy: 1.0000\n",
            "Epoch 18/30\n",
            "1/1 - 0s - loss: 0.4496 - accuracy: 0.9583 - val_loss: 0.3967 - val_accuracy: 1.0000\n",
            "Epoch 19/30\n",
            "1/1 - 0s - loss: 0.4496 - accuracy: 0.9583 - val_loss: 0.3950 - val_accuracy: 1.0000\n",
            "Epoch 20/30\n",
            "1/1 - 0s - loss: 0.4489 - accuracy: 0.9583 - val_loss: 0.3939 - val_accuracy: 1.0000\n",
            "Epoch 21/30\n",
            "1/1 - 0s - loss: 0.4475 - accuracy: 0.9583 - val_loss: 0.3933 - val_accuracy: 1.0000\n",
            "Epoch 22/30\n",
            "1/1 - 0s - loss: 0.4454 - accuracy: 0.9583 - val_loss: 0.3932 - val_accuracy: 1.0000\n",
            "Epoch 23/30\n",
            "1/1 - 0s - loss: 0.4430 - accuracy: 0.9583 - val_loss: 0.3937 - val_accuracy: 1.0000\n",
            "Epoch 24/30\n",
            "1/1 - 0s - loss: 0.4403 - accuracy: 1.0000 - val_loss: 0.3947 - val_accuracy: 1.0000\n",
            "Epoch 25/30\n",
            "1/1 - 0s - loss: 0.4378 - accuracy: 1.0000 - val_loss: 0.3963 - val_accuracy: 1.0000\n",
            "Epoch 26/30\n",
            "1/1 - 0s - loss: 0.4356 - accuracy: 1.0000 - val_loss: 0.3982 - val_accuracy: 1.0000\n",
            "Epoch 27/30\n",
            "1/1 - 0s - loss: 0.4337 - accuracy: 1.0000 - val_loss: 0.4003 - val_accuracy: 1.0000\n",
            "Epoch 28/30\n",
            "1/1 - 0s - loss: 0.4323 - accuracy: 1.0000 - val_loss: 0.4024 - val_accuracy: 1.0000\n",
            "Epoch 29/30\n",
            "1/1 - 0s - loss: 0.4312 - accuracy: 1.0000 - val_loss: 0.4041 - val_accuracy: 1.0000\n",
            "Epoch 30/30\n",
            "1/1 - 0s - loss: 0.4304 - accuracy: 1.0000 - val_loss: 0.4053 - val_accuracy: 1.0000\n"
          ],
          "name": "stdout"
        }
      ]
    },
    {
      "cell_type": "code",
      "metadata": {
        "id": "DHvwQz2sLmSn",
        "colab": {
          "base_uri": "https://localhost:8080/"
        },
        "outputId": "10ee3151-f331-440c-b565-e34393514f01"
      },
      "source": [
        "# Save the model to disk\n",
        "model.save('saved_model')"
      ],
      "execution_count": 102,
      "outputs": [
        {
          "output_type": "stream",
          "text": [
            "Exception ignored in: <function IteratorResourceDeleter.__del__ at 0x7fc36016bc20>\n",
            "Traceback (most recent call last):\n",
            "  File \"/usr/local/lib/python3.7/dist-packages/tensorflow/python/data/ops/iterator_ops.py\", line 546, in __del__\n",
            "    handle=self._handle, deleter=self._deleter)\n",
            "  File \"/usr/local/lib/python3.7/dist-packages/tensorflow/python/ops/gen_dataset_ops.py\", line 1264, in delete_iterator\n",
            "    _ctx, \"DeleteIterator\", name, handle, deleter)\n",
            "KeyboardInterrupt: \n"
          ],
          "name": "stderr"
        }
      ]
    },
    {
      "cell_type": "markdown",
      "metadata": {
        "id": "E2KNymAjPIGH"
      },
      "source": [
        "Plot Absolute Error"
      ]
    },
    {
      "cell_type": "code",
      "metadata": {
        "id": "CmvA-ksoln8r",
        "colab": {
          "base_uri": "https://localhost:8080/",
          "height": 295
        },
        "outputId": "dfa7709f-f197-48ff-cea3-b7226dd21e5e"
      },
      "source": [
        "# Matplotlib is a graphing library\n",
        "import matplotlib.pyplot as plt\n",
        "plt.clf()\n",
        "\n",
        "# Draw a graph of mean absolute error, which is another way of\n",
        "# measuring the amount of error in the prediction.\n",
        "train_accuracy = history_1.history['accuracy']\n",
        "val_accuracy = history_1.history['val_accuracy']\n",
        "\n",
        "plt.plot(epochs, train_accuracy, 'g.', label='Training Accuracy')\n",
        "plt.plot(epochs, val_accuracy, 'b.', label='Validation Accuracy')\n",
        "plt.title('Training and validation mean absolute error')\n",
        "plt.xlabel('Epochs')\n",
        "plt.ylabel('Accuracy')\n",
        "plt.legend()\n",
        "plt.show()"
      ],
      "execution_count": 105,
      "outputs": [
        {
          "output_type": "display_data",
          "data": {
            "image/png": "[encoded data removed]",
            "text/plain": [
              "<Figure size 432x288 with 1 Axes>"
            ]
          },
          "metadata": {
            "tags": [],
            "needs_background": "light"
          }
        }
      ]
    },
    {
      "cell_type": "markdown",
      "metadata": {
        "id": "b8RGxU8wO_aq"
      },
      "source": [
        "Plot Training vs. Validation Loss"
      ]
    },
    {
      "cell_type": "code",
      "metadata": {
        "colab": {
          "base_uri": "https://localhost:8080/",
          "height": 295
        },
        "id": "NDxbU89EEPZV",
        "outputId": "23e7bbb3-887c-4de0-b5bc-d417bc28ed13"
      },
      "source": [
        "# Matplotlib is a graphing library\n",
        "import matplotlib.pyplot as plt\n",
        "\n",
        "# Draw a graph of the loss, which is the distance between\n",
        "# the predicted and actual values during training and validation.\n",
        "train_loss = history_1.history['loss']\n",
        "val_loss = history_1.history['val_loss']\n",
        "\n",
        "epochs = range(1, len(train_loss) + 1)\n",
        "\n",
        "plt.plot(epochs, train_loss, 'g.', label='Training loss')\n",
        "plt.plot(epochs, val_loss, 'b', label='Validation loss')\n",
        "plt.title('Training and validation loss')\n",
        "plt.xlabel('Epochs')\n",
        "plt.ylabel('Loss')\n",
        "plt.legend()\n",
        "plt.show()"
      ],
      "execution_count": 104,
      "outputs": [
        {
          "output_type": "display_data",
          "data": {
            "image/png": "[encoded data removed]",
            "text/plain": [
              "<Figure size 432x288 with 1 Axes>"
            ]
          },
          "metadata": {
            "tags": [],
            "needs_background": "light"
          }
        }
      ]
    },
    {
      "cell_type": "markdown",
      "metadata": {
        "id": "N8Nv5aMjEfhb"
      },
      "source": [
        "Predictions vs. Actual Values"
      ]
    },
    {
      "cell_type": "code",
      "metadata": {
        "id": "i13eVIT3B9Mj",
        "colab": {
          "base_uri": "https://localhost:8080/",
          "height": 366
        },
        "outputId": "27d5bcbf-c3dc-418a-8aea-60f6de502d98"
      },
      "source": [
        "# Calculate and print the loss on our test dataset\n",
        "test_loss, test_accuracy = model.evaluate(X_test, Y_test)\n",
        "\n",
        "# Make predictions based on our test dataset\n",
        "Y_test_pred = model.predict(X_test)\n",
        "\n",
        "# Graph the predictions against the actual values\n",
        "plt.clf()\n",
        "plt.title('Comparison of predictions and actual values')\n",
        "plt.plot(X_test, Y_test, 'b.', label='Actual values')\n",
        "plt.plot(X_test, Y_test_pred, 'r.', label='TF predictions')\n",
        "plt.legend()\n",
        "plt.show()"
      ],
      "execution_count": 90,
      "outputs": [
        {
          "output_type": "stream",
          "text": [
            "1/1 [==============================] - 0s 154ms/step - loss: 0.5055 - accuracy: 1.0000\n"
          ],
          "name": "stdout"
        },
        {
          "output_type": "stream",
          "text": [
            "/usr/local/lib/python3.7/dist-packages/ipykernel_launcher.py:10: MatplotlibDeprecationWarning: cycling among columns of inputs with non-matching shapes is deprecated.\n",
            "  # Remove the CWD from sys.path while we load stuff.\n",
            "/usr/local/lib/python3.7/dist-packages/ipykernel_launcher.py:11: MatplotlibDeprecationWarning: cycling among columns of inputs with non-matching shapes is deprecated.\n",
            "  # This is added back by InteractiveShellApp.init_path()\n"
          ],
          "name": "stderr"
        },
        {
          "output_type": "display_data",
          "data": {
            "image/png": "[encoded data removed]",
            "text/plain": [
              "<Figure size 432x288 with 1 Axes>"
            ]
          },
          "metadata": {
            "tags": [],
            "needs_background": "light"
          }
        }
      ]
    },
    {
      "cell_type": "markdown",
      "metadata": {
        "id": "1PMZFdXxPOyH"
      },
      "source": [
        "Define Files for Tensorflow Lite Conversion"
      ]
    },
    {
      "cell_type": "code",
      "metadata": {
        "id": "ZRWdCFHoMkaI"
      },
      "source": [
        "# Define paths to model files\n",
        "import os\n",
        "#MODELS_DIR = 'models/'\n",
        "#if not os.path.exists(MODELS_DIR):\n",
        "   # os.mkdir(MODELS_DIR)\n",
        "MODEL_TF = 'saved_model'\n",
        "MODEL_NO_QUANT_TFLITE = 'model_no_quant.tflite'\n",
        "MODEL_TFLITE = 'model.tflite'\n",
        "MODEL_TFLITE_MICRO = 'model.cc'\n",
        "#MODEL_TFLITE_MICRO = MODELS_DIR + 'model.cc'"
      ],
      "execution_count": 72,
      "outputs": []
    },
    {
      "cell_type": "markdown",
      "metadata": {
        "id": "_Y-EJZPvPUcj"
      },
      "source": [
        "Convert to Tensorflow Lite"
      ]
    },
    {
      "cell_type": "code",
      "metadata": {
        "colab": {
          "base_uri": "https://localhost:8080/"
        },
        "id": "83GvLn41Lt4I",
        "outputId": "e3a1e55b-9acc-4560-dc3f-a1bfbb19a93d"
      },
      "source": [
        "\n",
        "# Convert the model to the TensorFlow Lite format without quantization\n",
        "converter = tf.lite.TFLiteConverter.from_saved_model(MODEL_TF)\n",
        "model_tflite = converter.convert()\n",
        "\n",
        "# Save the model to disk\n",
        "#open(MODEL_NO_QUANT_TFLITE, \"wb\").write(model_no_quant_tflite)\n",
        "\n",
        "#Save the model to disk\n",
        "open(MODEL_TFLITE, \"wb\").write(model_tflite)\n"
      ],
      "execution_count": 76,
      "outputs": [
        {
          "output_type": "execute_result",
          "data": {
            "text/plain": [
              "3432"
            ]
          },
          "metadata": {
            "tags": []
          },
          "execution_count": 76
        }
      ]
    },
    {
      "cell_type": "markdown",
      "metadata": {
        "id": "4AeDrt8PPbK7"
      },
      "source": [
        "Create C++ Code for Microcontroller"
      ]
    },
    {
      "cell_type": "code",
      "metadata": {
        "colab": {
          "base_uri": "https://localhost:8080/"
        },
        "id": "uY0plswbOkO9",
        "outputId": "48e2707a-c972-448e-fe66-1ece91ca5d9e"
      },
      "source": [
        "# Install xxd if it is not available\n",
        "!apt-get update && apt-get -qq install xxd\n",
        "# Convert to a C source file, i.e, a TensorFlow Lite for Microcontrollers model\n",
        "!xxd -i {MODEL_TFLITE} > {MODEL_TFLITE_MICRO}\n",
        "# Update variable names\n",
        "REPLACE_TEXT = MODEL_TFLITE.replace('/', '_').replace('.', '_')\n",
        "!sed -i 's/'{REPLACE_TEXT}'/g_model/g' {MODEL_TFLITE_MICRO}"
      ],
      "execution_count": 77,
      "outputs": [
        {
          "output_type": "stream",
          "text": [
            "\r0% [Working]\r            \rHit:1 https://cloud.r-project.org/bin/linux/ubuntu bionic-cran40/ InRelease\n",
            "\r0% [Connecting to archive.ubuntu.com (91.189.88.142)] [Connecting to security.u\r0% [1 InRelease gpgv 3,626 B] [Connecting to archive.ubuntu.com (91.189.88.142)\r                                                                               \rIgn:2 https://developer.download.nvidia.com/compute/cuda/repos/ubuntu1804/x86_64  InRelease\n",
            "\r0% [1 InRelease gpgv 3,626 B] [Connecting to archive.ubuntu.com (91.189.88.142)\r                                                                               \rIgn:3 https://developer.download.nvidia.com/compute/machine-learning/repos/ubuntu1804/x86_64  InRelease\n",
            "\r0% [1 InRelease gpgv 3,626 B] [Connecting to archive.ubuntu.com (91.189.88.142)\r                                                                               \rHit:4 https://developer.download.nvidia.com/compute/cuda/repos/ubuntu1804/x86_64  Release\n",
            "\r0% [1 InRelease gpgv 3,626 B] [Connecting to archive.ubuntu.com (91.189.88.142)\r                                                                               \rHit:5 https://developer.download.nvidia.com/compute/machine-learning/repos/ubuntu1804/x86_64  Release\n",
            "Hit:6 http://security.ubuntu.com/ubuntu bionic-security InRelease\n",
            "Hit:7 http://archive.ubuntu.com/ubuntu bionic InRelease\n",
            "Hit:8 http://ppa.launchpad.net/c2d4u.team/c2d4u4.0+/ubuntu bionic InRelease\n",
            "Hit:9 http://archive.ubuntu.com/ubuntu bionic-updates InRelease\n",
            "Hit:11 http://archive.ubuntu.com/ubuntu bionic-backports InRelease\n",
            "Hit:12 http://ppa.launchpad.net/cran/libgit2/ubuntu bionic InRelease\n",
            "Hit:14 http://ppa.launchpad.net/deadsnakes/ppa/ubuntu bionic InRelease\n",
            "Hit:15 http://ppa.launchpad.net/graphics-drivers/ppa/ubuntu bionic InRelease\n",
            "Reading package lists... Done\n"
          ],
          "name": "stdout"
        }
      ]
    },
    {
      "cell_type": "markdown",
      "metadata": {
        "id": "4VrOecNePhau"
      },
      "source": [
        "Print C++ Code to copy to Arduino Header File"
      ]
    },
    {
      "cell_type": "code",
      "metadata": {
        "colab": {
          "base_uri": "https://localhost:8080/"
        },
        "id": "vKvrzZH1O2P2",
        "outputId": "5b6643de-bd82-402a-a6f3-fdcd86b14dd7"
      },
      "source": [
        "# Print the C source file\n",
        "!cat {MODEL_TFLITE_MICRO}"
      ],
      "execution_count": 78,
      "outputs": [
        {
          "output_type": "stream",
          "text": [
            "unsigned char g_model[] = {\n",
            "  0x1c, 0x00, 0x00, 0x00, 0x54, 0x46, 0x4c, 0x33, 0x14, 0x00, 0x20, 0x00,\n",
            "  0x04, 0x00, 0x08, 0x00, 0x0c, 0x00, 0x10, 0x00, 0x14, 0x00, 0x00, 0x00,\n",
            "  0x18, 0x00, 0x1c, 0x00, 0x14, 0x00, 0x00, 0x00, 0x03, 0x00, 0x00, 0x00,\n",
            "  0x18, 0x00, 0x00, 0x00, 0x20, 0x00, 0x00, 0x00, 0x40, 0x01, 0x00, 0x00,\n",
            "  0x20, 0x00, 0x00, 0x00, 0xe8, 0x00, 0x00, 0x00, 0x50, 0x00, 0x00, 0x00,\n",
            "  0x02, 0x00, 0x00, 0x00, 0x30, 0x04, 0x00, 0x00, 0x00, 0x02, 0x00, 0x00,\n",
            "  0x01, 0x00, 0x00, 0x00, 0x44, 0x01, 0x00, 0x00, 0x0d, 0x00, 0x00, 0x00,\n",
            "  0x10, 0x0d, 0x00, 0x00, 0x0c, 0x0d, 0x00, 0x00, 0x44, 0x0c, 0x00, 0x00,\n",
            "  0xcc, 0x0b, 0x00, 0x00, 0x38, 0x0b, 0x00, 0x00, 0xb4, 0x08, 0x00, 0x00,\n",
            "  0x40, 0x05, 0x00, 0x00, 0x9c, 0x04, 0x00, 0x00, 0xf0, 0x0c, 0x00, 0x00,\n",
            "  0xec, 0x0c, 0x00, 0x00, 0xe8, 0x0c, 0x00, 0x00, 0xe4, 0x0c, 0x00, 0x00,\n",
            "  0xcc, 0x00, 0x00, 0x00, 0x01, 0x00, 0x00, 0x00, 0x10, 0x00, 0x00, 0x00,\n",
            "  0x0c, 0x00, 0x14, 0x00, 0x10, 0x00, 0x0c, 0x00, 0x08, 0x00, 0x04, 0x00,\n",
            "  0x0c, 0x00, 0x00, 0x00, 0x10, 0x00, 0x00, 0x00, 0x18, 0x00, 0x00, 0x00,\n",
            "  0x28, 0x00, 0x00, 0x00, 0x2c, 0x00, 0x00, 0x00, 0x05, 0x00, 0x00, 0x00,\n",
            "  0x73, 0x65, 0x72, 0x76, 0x65, 0x00, 0x00, 0x00, 0x0f, 0x00, 0x00, 0x00,\n",
            "  0x73, 0x65, 0x72, 0x76, 0x69, 0x6e, 0x67, 0x5f, 0x64, 0x65, 0x66, 0x61,\n",
            "  0x75, 0x6c, 0x74, 0x00, 0x01, 0x00, 0x00, 0x00, 0x14, 0x00, 0x00, 0x00,\n",
            "  0x01, 0x00, 0x00, 0x00, 0x24, 0x00, 0x00, 0x00, 0x08, 0x00, 0x0c, 0x00,\n",
            "  0x08, 0x00, 0x04, 0x00, 0x08, 0x00, 0x00, 0x00, 0x0a, 0x00, 0x00, 0x00,\n",
            "  0x04, 0x00, 0x00, 0x00, 0x06, 0x00, 0x00, 0x00, 0x79, 0x5f, 0x70, 0x72,\n",
            "  0x65, 0x64, 0x00, 0x00, 0x66, 0xf4, 0xff, 0xff, 0x04, 0x00, 0x00, 0x00,\n",
            "  0x0d, 0x00, 0x00, 0x00, 0x64, 0x65, 0x6e, 0x73, 0x65, 0x5f, 0x36, 0x5f,\n",
            "  0x69, 0x6e, 0x70, 0x75, 0x74, 0x00, 0x00, 0x00, 0x01, 0x00, 0x00, 0x00,\n",
            "  0x0c, 0x00, 0x00, 0x00, 0x08, 0x00, 0x0c, 0x00, 0x04, 0x00, 0x08, 0x00,\n",
            "  0x08, 0x00, 0x00, 0x00, 0x08, 0x00, 0x00, 0x00, 0x0c, 0x00, 0x00, 0x00,\n",
            "  0x13, 0x00, 0x00, 0x00, 0x6d, 0x69, 0x6e, 0x5f, 0x72, 0x75, 0x6e, 0x74,\n",
            "  0x69, 0x6d, 0x65, 0x5f, 0x76, 0x65, 0x72, 0x73, 0x69, 0x6f, 0x6e, 0x00,\n",
            "  0xb6, 0xf4, 0xff, 0xff, 0x04, 0x00, 0x00, 0x00, 0x10, 0x00, 0x00, 0x00,\n",
            "  0x31, 0x2e, 0x35, 0x2e, 0x30, 0x00, 0x00, 0x00, 0x00, 0x00, 0x00, 0x00,\n",
            "  0x00, 0x00, 0x00, 0x00, 0x0f, 0x00, 0x00, 0x00, 0x4d, 0x4c, 0x49, 0x52,\n",
            "  0x20, 0x43, 0x6f, 0x6e, 0x76, 0x65, 0x72, 0x74, 0x65, 0x64, 0x2e, 0x00,\n",
            "  0x00, 0x00, 0x0e, 0x00, 0x18, 0x00, 0x04, 0x00, 0x08, 0x00, 0x0c, 0x00,\n",
            "  0x10, 0x00, 0x14, 0x00, 0x0e, 0x00, 0x00, 0x00, 0x14, 0x00, 0x00, 0x00,\n",
            "  0x40, 0x00, 0x00, 0x00, 0x44, 0x00, 0x00, 0x00, 0x48, 0x00, 0x00, 0x00,\n",
            "  0x58, 0x00, 0x00, 0x00, 0x0b, 0x00, 0x00, 0x00, 0x5c, 0x0b, 0x00, 0x00,\n",
            "  0x14, 0x0b, 0x00, 0x00, 0xac, 0x0a, 0x00, 0x00, 0x40, 0x0a, 0x00, 0x00,\n",
            "  0x9c, 0x09, 0x00, 0x00, 0x18, 0x07, 0x00, 0x00, 0xa4, 0x03, 0x00, 0x00,\n",
            "  0xb8, 0x02, 0x00, 0x00, 0xc0, 0x01, 0x00, 0x00, 0x08, 0x01, 0x00, 0x00,\n",
            "  0x80, 0x00, 0x00, 0x00, 0x01, 0x00, 0x00, 0x00, 0x00, 0x00, 0x00, 0x00,\n",
            "  0x01, 0x00, 0x00, 0x00, 0x0a, 0x00, 0x00, 0x00, 0x04, 0x00, 0x00, 0x00,\n",
            "  0x3c, 0x02, 0x00, 0x00, 0x68, 0x01, 0x00, 0x00, 0xb4, 0x00, 0x00, 0x00,\n",
            "  0x1c, 0x00, 0x00, 0x00, 0x04, 0x00, 0x00, 0x00, 0x6d, 0x61, 0x69, 0x6e,\n",
            "  0x00, 0x00, 0x0e, 0x00, 0x18, 0x00, 0x08, 0x00, 0x0c, 0x00, 0x10, 0x00,\n",
            "  0x07, 0x00, 0x14, 0x00, 0x0e, 0x00, 0x00, 0x00, 0x00, 0x00, 0x00, 0x09,\n",
            "  0x01, 0x00, 0x00, 0x00, 0x1c, 0x00, 0x00, 0x00, 0x10, 0x00, 0x00, 0x00,\n",
            "  0x04, 0x00, 0x00, 0x00, 0x92, 0xf5, 0xff, 0xff, 0x00, 0x00, 0x80, 0x3f,\n",
            "  0x01, 0x00, 0x00, 0x00, 0x0a, 0x00, 0x00, 0x00, 0x01, 0x00, 0x00, 0x00,\n",
            "  0x09, 0x00, 0x00, 0x00, 0xe0, 0xfd, 0xff, 0xff, 0x19, 0x00, 0x00, 0x00,\n",
            "  0x00, 0x00, 0x00, 0x19, 0x01, 0x00, 0x00, 0x00, 0x60, 0xf5, 0xff, 0xff,\n",
            "  0x14, 0x00, 0x00, 0x00, 0x0b, 0x00, 0x00, 0x00, 0x18, 0x00, 0x00, 0x00,\n",
            "  0x40, 0x00, 0x00, 0x00, 0x30, 0x00, 0x00, 0x00, 0x02, 0x00, 0x00, 0x00,\n",
            "  0x01, 0x00, 0x00, 0x00, 0x02, 0x00, 0x00, 0x00, 0x19, 0x00, 0x00, 0x00,\n",
            "  0x53, 0x74, 0x61, 0x74, 0x65, 0x66, 0x75, 0x6c, 0x50, 0x61, 0x72, 0x74,\n",
            "  0x69, 0x74, 0x69, 0x6f, 0x6e, 0x65, 0x64, 0x43, 0x61, 0x6c, 0x6c, 0x3a,\n",
            "  0x30, 0x00, 0x00, 0x00, 0x02, 0x00, 0x00, 0x00, 0xff, 0xff, 0xff, 0xff,\n",
            "  0x02, 0x00, 0x00, 0x00, 0x44, 0xf5, 0xff, 0xff, 0x5e, 0xff, 0xff, 0xff,\n",
            "  0x00, 0x00, 0x00, 0x08, 0x18, 0x00, 0x00, 0x00, 0x0c, 0x00, 0x00, 0x00,\n",
            "  0x04, 0x00, 0x00, 0x00, 0x5c, 0xf5, 0xff, 0xff, 0x01, 0x00, 0x00, 0x00,\n",
            "  0x09, 0x00, 0x00, 0x00, 0x03, 0x00, 0x00, 0x00, 0x08, 0x00, 0x00, 0x00,\n",
            "  0x06, 0x00, 0x00, 0x00, 0x01, 0x00, 0x00, 0x00, 0xe4, 0xf5, 0xff, 0xff,\n",
            "  0x14, 0x00, 0x00, 0x00, 0x0a, 0x00, 0x00, 0x00, 0x18, 0x00, 0x00, 0x00,\n",
            "  0x5c, 0x00, 0x00, 0x00, 0x4c, 0x00, 0x00, 0x00, 0x02, 0x00, 0x00, 0x00,\n",
            "  0x01, 0x00, 0x00, 0x00, 0x02, 0x00, 0x00, 0x00, 0x36, 0x00, 0x00, 0x00,\n",
            "  0x73, 0x65, 0x71, 0x75, 0x65, 0x6e, 0x74, 0x69, 0x61, 0x6c, 0x5f, 0x33,\n",
            "  0x2f, 0x79, 0x5f, 0x70, 0x72, 0x65, 0x64, 0x2f, 0x4d, 0x61, 0x74, 0x4d,\n",
            "  0x75, 0x6c, 0x3b, 0x73, 0x65, 0x71, 0x75, 0x65, 0x6e, 0x74, 0x69, 0x61,\n",
            "  0x6c, 0x5f, 0x33, 0x2f, 0x79, 0x5f, 0x70, 0x72, 0x65, 0x64, 0x2f, 0x42,\n",
            "  0x69, 0x61, 0x73, 0x41, 0x64, 0x64, 0x00, 0x00, 0x02, 0x00, 0x00, 0x00,\n",
            "  0xff, 0xff, 0xff, 0xff, 0x02, 0x00, 0x00, 0x00, 0xb4, 0xf6, 0xff, 0xff,\n",
            "  0x00, 0x00, 0x0e, 0x00, 0x14, 0x00, 0x00, 0x00, 0x08, 0x00, 0x0c, 0x00,\n",
            "  0x07, 0x00, 0x10, 0x00, 0x0e, 0x00, 0x00, 0x00, 0x00, 0x00, 0x00, 0x08,\n",
            "  0x1c, 0x00, 0x00, 0x00, 0x10, 0x00, 0x00, 0x00, 0x04, 0x00, 0x00, 0x00,\n",
            "  0x2e, 0xff, 0xff, 0xff, 0x00, 0x00, 0x00, 0x01, 0x01, 0x00, 0x00, 0x00,\n",
            "  0x08, 0x00, 0x00, 0x00, 0x03, 0x00, 0x00, 0x00, 0x07, 0x00, 0x00, 0x00,\n",
            "  0x05, 0x00, 0x00, 0x00, 0x02, 0x00, 0x00, 0x00, 0x98, 0xf6, 0xff, 0xff,\n",
            "  0x14, 0x00, 0x00, 0x00, 0x09, 0x00, 0x00, 0x00, 0x18, 0x00, 0x00, 0x00,\n",
            "  0x78, 0x00, 0x00, 0x00, 0x68, 0x00, 0x00, 0x00, 0x02, 0x00, 0x00, 0x00,\n",
            "  0x01, 0x00, 0x00, 0x00, 0x0a, 0x00, 0x00, 0x00, 0x52, 0x00, 0x00, 0x00,\n",
            "  0x73, 0x65, 0x71, 0x75, 0x65, 0x6e, 0x74, 0x69, 0x61, 0x6c, 0x5f, 0x33,\n",
            "  0x2f, 0x64, 0x65, 0x6e, 0x73, 0x65, 0x5f, 0x37, 0x2f, 0x4d, 0x61, 0x74,\n",
            "  0x4d, 0x75, 0x6c, 0x3b, 0x73, 0x65, 0x71, 0x75, 0x65, 0x6e, 0x74, 0x69,\n",
            "  0x61, 0x6c, 0x5f, 0x33, 0x2f, 0x64, 0x65, 0x6e, 0x73, 0x65, 0x5f, 0x37,\n",
            "  0x2f, 0x42, 0x69, 0x61, 0x73, 0x41, 0x64, 0x64, 0x3b, 0x73, 0x65, 0x71,\n",
            "  0x75, 0x65, 0x6e, 0x74, 0x69, 0x61, 0x6c, 0x5f, 0x33, 0x2f, 0x64, 0x65,\n",
            "  0x6e, 0x73, 0x65, 0x5f, 0x37, 0x2f, 0x52, 0x65, 0x6c, 0x75, 0x00, 0x00,\n",
            "  0x02, 0x00, 0x00, 0x00, 0xff, 0xff, 0xff, 0xff, 0x0a, 0x00, 0x00, 0x00,\n",
            "  0x84, 0xf7, 0xff, 0xff, 0x00, 0x00, 0x0e, 0x00, 0x16, 0x00, 0x00, 0x00,\n",
            "  0x08, 0x00, 0x0c, 0x00, 0x07, 0x00, 0x10, 0x00, 0x0e, 0x00, 0x00, 0x00,\n",
            "  0x00, 0x00, 0x00, 0x08, 0x24, 0x00, 0x00, 0x00, 0x18, 0x00, 0x00, 0x00,\n",
            "  0x0c, 0x00, 0x00, 0x00, 0x00, 0x00, 0x06, 0x00, 0x08, 0x00, 0x07, 0x00,\n",
            "  0x06, 0x00, 0x00, 0x00, 0x00, 0x00, 0x00, 0x01, 0x01, 0x00, 0x00, 0x00,\n",
            "  0x07, 0x00, 0x00, 0x00, 0x03, 0x00, 0x00, 0x00, 0x00, 0x00, 0x00, 0x00,\n",
            "  0x04, 0x00, 0x00, 0x00, 0x03, 0x00, 0x00, 0x00, 0x0c, 0x00, 0x10, 0x00,\n",
            "  0x0b, 0x00, 0x00, 0x00, 0x0c, 0x00, 0x04, 0x00, 0x0c, 0x00, 0x00, 0x00,\n",
            "  0x09, 0x00, 0x00, 0x00, 0x00, 0x00, 0x00, 0x09, 0x01, 0x00, 0x00, 0x00,\n",
            "  0x8c, 0xf7, 0xff, 0xff, 0x14, 0x00, 0x00, 0x00, 0x08, 0x00, 0x00, 0x00,\n",
            "  0x18, 0x00, 0x00, 0x00, 0x78, 0x00, 0x00, 0x00, 0x68, 0x00, 0x00, 0x00,\n",
            "  0x02, 0x00, 0x00, 0x00, 0x01, 0x00, 0x00, 0x00, 0x14, 0x00, 0x00, 0x00,\n",
            "  0x52, 0x00, 0x00, 0x00, 0x73, 0x65, 0x71, 0x75, 0x65, 0x6e, 0x74, 0x69,\n",
            "  0x61, 0x6c, 0x5f, 0x33, 0x2f, 0x64, 0x65, 0x6e, 0x73, 0x65, 0x5f, 0x36,\n",
            "  0x2f, 0x4d, 0x61, 0x74, 0x4d, 0x75, 0x6c, 0x3b, 0x73, 0x65, 0x71, 0x75,\n",
            "  0x65, 0x6e, 0x74, 0x69, 0x61, 0x6c, 0x5f, 0x33, 0x2f, 0x64, 0x65, 0x6e,\n",
            "  0x73, 0x65, 0x5f, 0x36, 0x2f, 0x42, 0x69, 0x61, 0x73, 0x41, 0x64, 0x64,\n",
            "  0x3b, 0x73, 0x65, 0x71, 0x75, 0x65, 0x6e, 0x74, 0x69, 0x61, 0x6c, 0x5f,\n",
            "  0x33, 0x2f, 0x64, 0x65, 0x6e, 0x73, 0x65, 0x5f, 0x36, 0x2f, 0x52, 0x65,\n",
            "  0x6c, 0x75, 0x00, 0x00, 0x02, 0x00, 0x00, 0x00, 0xff, 0xff, 0xff, 0xff,\n",
            "  0x14, 0x00, 0x00, 0x00, 0xa8, 0xf7, 0xff, 0xff, 0x72, 0xf8, 0xff, 0xff,\n",
            "  0x04, 0x00, 0x00, 0x00, 0x50, 0x00, 0x00, 0x00, 0x48, 0x8d, 0x54, 0xbe,\n",
            "  0x9e, 0x49, 0x33, 0xbf, 0x20, 0x0e, 0x7d, 0xbd, 0x44, 0xfc, 0x1f, 0xbf,\n",
            "  0x02, 0xec, 0xec, 0x3c, 0xbe, 0x77, 0xf0, 0xbe, 0x0f, 0x71, 0x9c, 0x3e,\n",
            "  0x40, 0x15, 0xdd, 0x3e, 0xf1, 0xf1, 0x9e, 0xba, 0xc2, 0x3c, 0x82, 0x3e,\n",
            "  0xa2, 0xb9, 0xd0, 0x3e, 0xa0, 0xb9, 0x20, 0xbf, 0xe8, 0x37, 0x86, 0xbd,\n",
            "  0xdb, 0x8e, 0x14, 0x3f, 0x91, 0x95, 0x14, 0x3f, 0x82, 0xc9, 0xc0, 0x3e,\n",
            "  0x75, 0x9d, 0xab, 0x3e, 0x3a, 0x5c, 0x5d, 0xbc, 0x48, 0xa6, 0x2d, 0x3e,\n",
            "  0x42, 0x56, 0x1d, 0xbc, 0xb2, 0xf8, 0xff, 0xff, 0x10, 0x00, 0x00, 0x00,\n",
            "  0x07, 0x00, 0x00, 0x00, 0x14, 0x00, 0x00, 0x00, 0x30, 0x00, 0x00, 0x00,\n",
            "  0x02, 0x00, 0x00, 0x00, 0x02, 0x00, 0x00, 0x00, 0x0a, 0x00, 0x00, 0x00,\n",
            "  0x1a, 0x00, 0x00, 0x00, 0x73, 0x65, 0x71, 0x75, 0x65, 0x6e, 0x74, 0x69,\n",
            "  0x61, 0x6c, 0x5f, 0x33, 0x2f, 0x79, 0x5f, 0x70, 0x72, 0x65, 0x64, 0x2f,\n",
            "  0x4d, 0x61, 0x74, 0x4d, 0x75, 0x6c, 0x00, 0x00, 0x48, 0xf8, 0xff, 0xff,\n",
            "  0x12, 0xf9, 0xff, 0xff, 0x04, 0x00, 0x00, 0x00, 0x20, 0x03, 0x00, 0x00,\n",
            "  0xac, 0xde, 0x8b, 0xbe, 0x40, 0xa6, 0x65, 0xbc, 0xa8, 0xb6, 0xfb, 0x3d,\n",
            "  0x28, 0x14, 0x99, 0x3d, 0xf8, 0xcb, 0xb8, 0x3e, 0x1f, 0x46, 0x85, 0xbe,\n",
            "  0x94, 0x5b, 0xed, 0xbd, 0x80, 0x9e, 0x99, 0x3d, 0xb2, 0xc2, 0xb9, 0xbe,\n",
            "  0xb4, 0x9f, 0xc9, 0xbe, 0x12, 0x84, 0x0b, 0xbe, 0xce, 0xb7, 0x74, 0xbe,\n",
            "  0x06, 0x3e, 0xc6, 0x3e, 0xda, 0xe0, 0xb2, 0x3e, 0x08, 0x6f, 0xf6, 0xbd,\n",
            "  0x80, 0x0d, 0x86, 0x3b, 0xff, 0x3d, 0xc0, 0xbe, 0x20, 0xaf, 0x76, 0x3d,\n",
            "  0x0e, 0x77, 0x02, 0xbe, 0x90, 0xe5, 0x5b, 0x3d, 0x86, 0xaa, 0x8f, 0xbe,\n",
            "  0xc8, 0x3c, 0x80, 0x3d, 0x5d, 0xc3, 0x5d, 0xbe, 0xd4, 0xcc, 0x2a, 0x3e,\n",
            "  0xc0, 0xad, 0xd8, 0x3d, 0x58, 0x2c, 0x1c, 0x3d, 0x08, 0x9e, 0x99, 0x3e,\n",
            "  0x22, 0x90, 0x41, 0xbe, 0xb0, 0x49, 0x1f, 0xbe, 0x86, 0x5d, 0x9f, 0xbe,\n",
            "  0x28, 0x9a, 0x8c, 0x3d, 0x3e, 0x2f, 0xaa, 0xbe, 0x2c, 0xbb, 0xcf, 0xbd,\n",
            "  0x36, 0x5d, 0x06, 0xbe, 0xeb, 0x7f, 0xa9, 0xbe, 0x72, 0x10, 0xbe, 0xbe,\n",
            "  0xce, 0xc5, 0x34, 0xbe, 0x00, 0x80, 0x90, 0x3e, 0x1c, 0x95, 0x54, 0x3e,\n",
            "  0xfe, 0xa2, 0xbc, 0xbe, 0xba, 0x2e, 0xac, 0xbe, 0xfc, 0x06, 0x98, 0x3e,\n",
            "  0x60, 0x9d, 0xd4, 0x3d, 0x84, 0x86, 0x5e, 0xbe, 0x3a, 0x7b, 0x8c, 0x3e,\n",
            "  0xc0, 0xd0, 0xe9, 0xbb, 0x60, 0x69, 0x38, 0x3e, 0x8e, 0x51, 0x42, 0xbe,\n",
            "  0x76, 0x3d, 0xae, 0x3e, 0x16, 0xb4, 0xa6, 0x3e, 0xa4, 0xbf, 0x80, 0xbe,\n",
            "  0xb8, 0x4f, 0x47, 0xbe, 0x18, 0x0b, 0x0c, 0x3e, 0x02, 0x97, 0xd0, 0xbe,\n",
            "  0xd0, 0xfb, 0x09, 0x3e, 0x16, 0x39, 0x0f, 0xbe, 0x6c, 0xce, 0xc8, 0xbd,\n",
            "  0x62, 0xab, 0xd7, 0x3e, 0x82, 0x0f, 0xc3, 0xbe, 0xa4, 0xb6, 0xfe, 0xbd,\n",
            "  0xc6, 0x22, 0x91, 0xbe, 0xdc, 0x43, 0xa1, 0xbd, 0x6d, 0x89, 0x85, 0xbe,\n",
            "  0x32, 0x44, 0xb4, 0xbe, 0x90, 0x21, 0x7c, 0xbd, 0x7c, 0xaa, 0x49, 0x3e,\n",
            "  0x1e, 0xf9, 0x8b, 0x3e, 0x2e, 0x32, 0xa6, 0x3e, 0x8c, 0x2d, 0xc1, 0x3e,\n",
            "  0xa6, 0x2b, 0xa2, 0xbe, 0xc0, 0x32, 0xa9, 0x3e, 0xe4, 0xc5, 0x2a, 0x3e,\n",
            "  0x80, 0x63, 0x00, 0x3c, 0x82, 0x77, 0x8d, 0xbe, 0x08, 0xf1, 0xce, 0xbd,\n",
            "  0x9e, 0xe9, 0xd7, 0x3e, 0xe0, 0x2b, 0xbd, 0x3d, 0x68, 0x8e, 0xf7, 0x3d,\n",
            "  0xf8, 0xe5, 0xe5, 0x3d, 0xf2, 0x54, 0x93, 0xbe, 0x48, 0x87, 0x83, 0x3d,\n",
            "  0xaa, 0x1a, 0xbe, 0x3b, 0x89, 0x58, 0x6d, 0xbe, 0xa8, 0xcf, 0xa6, 0xbe,\n",
            "  0x74, 0xd6, 0xd8, 0xbe, 0x18, 0x2a, 0xbd, 0x3e, 0x84, 0x76, 0x1a, 0xbe,\n",
            "  0x90, 0xa4, 0xd2, 0xbc, 0x74, 0x51, 0x7d, 0xbe, 0xbc, 0xb3, 0xda, 0x3e,\n",
            "  0x60, 0xe2, 0xaf, 0x3c, 0xe0, 0x4c, 0xd4, 0xbe, 0x4b, 0xb1, 0xba, 0xbe,\n",
            "  0x4f, 0xb1, 0x25, 0x3e, 0x28, 0x62, 0x89, 0xbd, 0xf6, 0x93, 0xa1, 0x3d,\n",
            "  0xdc, 0xa4, 0xac, 0x3d, 0x56, 0x07, 0xc5, 0xbe, 0x1c, 0x28, 0xda, 0x3e,\n",
            "  0xfc, 0xcd, 0xdd, 0x3d, 0xb0, 0x18, 0x85, 0x3e, 0xf2, 0xb7, 0xb2, 0x3e,\n",
            "  0x76, 0xfe, 0xae, 0xbe, 0xf8, 0x2f, 0x1a, 0x3d, 0xeb, 0xd7, 0x97, 0xbe,\n",
            "  0xd4, 0xcd, 0xab, 0xbd, 0x40, 0x2c, 0x50, 0x3c, 0xc8, 0x16, 0xc6, 0xbd,\n",
            "  0x80, 0xc2, 0xcf, 0x3e, 0xd1, 0x0a, 0xce, 0xbe, 0x94, 0x47, 0xe2, 0xbe,\n",
            "  0x14, 0xc8, 0xd0, 0x3e, 0x9a, 0x1f, 0xa9, 0xbe, 0x78, 0xc7, 0x4b, 0x3e,\n",
            "  0xf1, 0x95, 0x5e, 0xbe, 0x12, 0x42, 0xad, 0x3e, 0x4e, 0x6c, 0xbd, 0xbe,\n",
            "  0x18, 0xdd, 0x0d, 0xbd, 0xbb, 0x5d, 0xbd, 0xbe, 0x08, 0x9b, 0x9a, 0x3e,\n",
            "  0x1e, 0xcb, 0xae, 0x3e, 0x52, 0xc9, 0x1e, 0xbe, 0xf8, 0x31, 0x4a, 0x3d,\n",
            "  0x0a, 0xe6, 0xac, 0x3e, 0xf9, 0x10, 0x8a, 0x3e, 0x30, 0xc8, 0xf4, 0xbd,\n",
            "  0x00, 0x5a, 0x59, 0x3d, 0x18, 0x70, 0x4c, 0x3e, 0x7f, 0xcb, 0x41, 0x3e,\n",
            "  0xeb, 0x1d, 0xbe, 0x3e, 0xaf, 0x26, 0x55, 0xbe, 0xd7, 0x08, 0x84, 0x3e,\n",
            "  0x23, 0xc2, 0xd9, 0xbe, 0x60, 0xd1, 0x03, 0xbd, 0xd0, 0xd7, 0xe9, 0xbc,\n",
            "  0x47, 0x54, 0x26, 0xbd, 0xf8, 0x5b, 0x32, 0x3e, 0xfc, 0x94, 0xb8, 0xbd,\n",
            "  0x59, 0xc8, 0x27, 0x3e, 0x3b, 0x4a, 0x42, 0xbe, 0xe3, 0x2d, 0x70, 0xbe,\n",
            "  0x73, 0xf9, 0xd0, 0x3e, 0x6d, 0x20, 0x75, 0xbe, 0x29, 0xbf, 0xd1, 0xbe,\n",
            "  0xee, 0x8a, 0xbb, 0xbd, 0x00, 0xb7, 0x8e, 0xbd, 0x48, 0xf1, 0x01, 0xbe,\n",
            "  0x45, 0x09, 0xb2, 0xbe, 0xce, 0xce, 0xba, 0x3e, 0xe4, 0x3b, 0x8f, 0x3e,\n",
            "  0xd0, 0xf2, 0x8c, 0x3e, 0xde, 0x05, 0xc7, 0x3e, 0x44, 0x3b, 0xa9, 0xbd,\n",
            "  0xdf, 0x9b, 0xe4, 0xbc, 0x08, 0x67, 0xc5, 0xbd, 0x18, 0x54, 0x27, 0xbe,\n",
            "  0x40, 0x2f, 0x81, 0xbe, 0x28, 0x8a, 0x8e, 0x3d, 0xdf, 0x1a, 0x3f, 0xbe,\n",
            "  0xba, 0x69, 0x3c, 0x3e, 0xa4, 0x2b, 0x96, 0xbe, 0xe0, 0x1c, 0x83, 0x3e,\n",
            "  0xe0, 0xd6, 0xf7, 0x3c, 0x38, 0xd2, 0x4b, 0x3e, 0x19, 0x7b, 0xce, 0x3e,\n",
            "  0xc0, 0xce, 0x5f, 0xbc, 0x08, 0xa9, 0x78, 0x3e, 0xaf, 0x2b, 0xd3, 0xbe,\n",
            "  0xf6, 0xb1, 0xae, 0xbd, 0xba, 0x01, 0x9c, 0xbe, 0xc4, 0xb7, 0x35, 0x3e,\n",
            "  0xea, 0x9c, 0xa4, 0x3e, 0x9e, 0x6b, 0xc6, 0x3e, 0x43, 0x7a, 0xdd, 0x3e,\n",
            "  0x98, 0xa1, 0x90, 0xbd, 0x44, 0x40, 0x4f, 0x3e, 0x5a, 0x5e, 0xab, 0xbe,\n",
            "  0xea, 0xcf, 0xc6, 0x3e, 0x97, 0x01, 0x32, 0x3b, 0x5d, 0x08, 0xb6, 0x3c,\n",
            "  0xc0, 0x0a, 0xef, 0xbd, 0xac, 0x3f, 0x24, 0x3e, 0x50, 0x0c, 0xba, 0x3d,\n",
            "  0x94, 0xf9, 0xa9, 0x3e, 0x66, 0xc5, 0xa2, 0xbe, 0x90, 0x7e, 0x82, 0x3e,\n",
            "  0x28, 0x06, 0x9b, 0x3e, 0x39, 0xcf, 0x72, 0xbe, 0x94, 0x17, 0xa3, 0x3e,\n",
            "  0x5c, 0xb1, 0x1e, 0xbe, 0x78, 0xe7, 0xac, 0xbd, 0xce, 0x0a, 0xfc, 0x3d,\n",
            "  0x6f, 0xc2, 0xbc, 0xbe, 0xdb, 0x57, 0x18, 0xbe, 0xdd, 0x39, 0xb2, 0xbe,\n",
            "  0xce, 0x59, 0xc2, 0x3d, 0xb8, 0xe1, 0xd4, 0x3e, 0x54, 0x2c, 0xcd, 0x3e,\n",
            "  0x7c, 0xc0, 0x1a, 0xbe, 0x4f, 0xd9, 0xc9, 0x3e, 0x22, 0xfc, 0xff, 0xff,\n",
            "  0x10, 0x00, 0x00, 0x00, 0x06, 0x00, 0x00, 0x00, 0x14, 0x00, 0x00, 0x00,\n",
            "  0x30, 0x00, 0x00, 0x00, 0x02, 0x00, 0x00, 0x00, 0x0a, 0x00, 0x00, 0x00,\n",
            "  0x14, 0x00, 0x00, 0x00, 0x1b, 0x00, 0x00, 0x00, 0x73, 0x65, 0x71, 0x75,\n",
            "  0x65, 0x6e, 0x74, 0x69, 0x61, 0x6c, 0x5f, 0x33, 0x2f, 0x64, 0x65, 0x6e,\n",
            "  0x73, 0x65, 0x5f, 0x37, 0x2f, 0x4d, 0x61, 0x74, 0x4d, 0x75, 0x6c, 0x00,\n",
            "  0xb8, 0xfb, 0xff, 0xff, 0x82, 0xfc, 0xff, 0xff, 0x04, 0x00, 0x00, 0x00,\n",
            "  0x30, 0x02, 0x00, 0x00, 0x64, 0xd6, 0xb0, 0xbe, 0x7b, 0x87, 0xa5, 0xbe,\n",
            "  0xde, 0xae, 0x8f, 0xbe, 0xf8, 0x63, 0x67, 0x3d, 0x4c, 0xa8, 0x9d, 0xbd,\n",
            "  0xb8, 0x97, 0x23, 0x3d, 0xda, 0x17, 0xca, 0xbe, 0x9b, 0x7b, 0x9b, 0x3d,\n",
            "  0x9c, 0xa9, 0xf6, 0x3d, 0xaa, 0x59, 0x86, 0x3c, 0x08, 0x46, 0x29, 0xbe,\n",
            "  0x95, 0xf1, 0x94, 0x3d, 0x13, 0x65, 0xf1, 0x3e, 0xd5, 0xd6, 0x90, 0x3e,\n",
            "  0x00, 0xa8, 0x62, 0xbb, 0x37, 0xb1, 0xea, 0xbe, 0xd5, 0xf3, 0xbb, 0xbe,\n",
            "  0x36, 0x92, 0x48, 0x3e, 0x00, 0x50, 0x32, 0xba, 0x54, 0xae, 0xd6, 0x3d,\n",
            "  0x96, 0xb3, 0xe3, 0xbe, 0xcc, 0x37, 0xe9, 0xbe, 0x6a, 0xb7, 0x00, 0xbe,\n",
            "  0xb6, 0x99, 0xbd, 0xbe, 0x36, 0xb6, 0x46, 0x3e, 0x14, 0x91, 0xfc, 0x3d,\n",
            "  0x86, 0x31, 0x0b, 0x3e, 0x84, 0x08, 0xa6, 0xbe, 0xa7, 0x5d, 0x3c, 0xbb,\n",
            "  0x89, 0x6d, 0x83, 0x3e, 0x83, 0x94, 0x93, 0xbe, 0x66, 0xee, 0x91, 0x3e,\n",
            "  0x1b, 0xe2, 0x02, 0x3e, 0xbb, 0xd3, 0xe0, 0x3e, 0xa9, 0x98, 0xb5, 0xbe,\n",
            "  0x5e, 0x22, 0x70, 0x3e, 0x2e, 0x18, 0x87, 0xbe, 0xac, 0x55, 0xb3, 0xbd,\n",
            "  0xdc, 0xda, 0x9d, 0xbd, 0x40, 0x00, 0x21, 0xbc, 0x2a, 0x4e, 0x32, 0x3e,\n",
            "  0x4c, 0x54, 0xe8, 0x3d, 0x71, 0x71, 0xb2, 0xbe, 0x91, 0x36, 0xd7, 0x3e,\n",
            "  0xb0, 0x43, 0x70, 0xbd, 0x8a, 0xeb, 0x2c, 0xbe, 0x8e, 0x5e, 0x38, 0xbe,\n",
            "  0x82, 0xd0, 0x0c, 0x3e, 0x5a, 0xde, 0x0b, 0x3e, 0x0e, 0xb4, 0x1e, 0xbe,\n",
            "  0x8f, 0x2f, 0xe8, 0x3e, 0xc2, 0x04, 0xa1, 0xbe, 0x00, 0x03, 0xde, 0xbd,\n",
            "  0xc5, 0x4d, 0xc4, 0xbe, 0x4f, 0xf1, 0xdb, 0x3e, 0x3c, 0x18, 0x8b, 0x3d,\n",
            "  0x6f, 0xcd, 0x0b, 0x3e, 0x0b, 0xd5, 0x3c, 0x3e, 0x84, 0x6c, 0x28, 0x3e,\n",
            "  0xc1, 0x01, 0xe8, 0xbe, 0x77, 0xdb, 0x89, 0x3e, 0x18, 0xf9, 0x73, 0x3e,\n",
            "  0xdb, 0xff, 0x17, 0xbe, 0xfd, 0xde, 0x84, 0xbc, 0xf8, 0x61, 0xc0, 0x3d,\n",
            "  0x62, 0x09, 0x4d, 0x3d, 0x71, 0xa6, 0x70, 0x3e, 0xdf, 0x90, 0xc4, 0xbe,\n",
            "  0x1d, 0xf3, 0x3d, 0xbd, 0x97, 0xa4, 0x18, 0xbd, 0xc8, 0x37, 0xbf, 0xbe,\n",
            "  0x20, 0xc4, 0xc5, 0xbe, 0x14, 0xec, 0xe2, 0xbe, 0x70, 0x21, 0xb3, 0xbe,\n",
            "  0xf9, 0xa2, 0xe0, 0x3e, 0x24, 0x7c, 0x21, 0xbe, 0xaa, 0xa0, 0x19, 0x3e,\n",
            "  0xd3, 0xf1, 0xc2, 0x3e, 0xbd, 0x7e, 0x7f, 0x3e, 0x44, 0xdb, 0xe9, 0xbc,\n",
            "  0x20, 0x9b, 0xb7, 0xbd, 0xb6, 0x10, 0xe9, 0x3c, 0x70, 0x60, 0xf6, 0x3e,\n",
            "  0x55, 0x93, 0xf5, 0x3d, 0x7f, 0xc1, 0x2d, 0x3e, 0x24, 0x50, 0xa0, 0x3e,\n",
            "  0x33, 0xf3, 0x94, 0x3d, 0x3e, 0xbe, 0x8a, 0xbe, 0xfd, 0x17, 0xac, 0x3e,\n",
            "  0x07, 0x69, 0xfc, 0xbd, 0x6e, 0x64, 0xfe, 0x3d, 0x57, 0x1f, 0x6b, 0x3d,\n",
            "  0x19, 0xab, 0xf0, 0x3d, 0x66, 0x0b, 0x03, 0xbe, 0x46, 0x2f, 0xa3, 0x3e,\n",
            "  0x9b, 0x01, 0xa7, 0x3d, 0x1b, 0xf8, 0x0c, 0xbe, 0x51, 0x7f, 0x69, 0x3e,\n",
            "  0x70, 0x2d, 0x8d, 0xbe, 0x6e, 0x6e, 0xed, 0xbe, 0xe9, 0x32, 0xed, 0x3e,\n",
            "  0x0d, 0x07, 0x63, 0xbe, 0x4a, 0x38, 0x62, 0x3e, 0x0a, 0x81, 0x23, 0xbe,\n",
            "  0xa2, 0x02, 0x73, 0x3e, 0x0a, 0xa7, 0x8f, 0xbe, 0xe8, 0x42, 0xe7, 0x3e,\n",
            "  0x64, 0x0a, 0x0c, 0xbe, 0x3c, 0x29, 0x2a, 0x3e, 0x75, 0x5e, 0xbf, 0xbd,\n",
            "  0xbb, 0x64, 0xc3, 0x3e, 0xc7, 0x4e, 0x90, 0xbe, 0x56, 0xb2, 0xb7, 0xbe,\n",
            "  0x5a, 0x41, 0xc8, 0x3e, 0x85, 0xae, 0x89, 0x3e, 0x5e, 0xd0, 0x8f, 0x3d,\n",
            "  0x4c, 0x70, 0x04, 0xbd, 0xf7, 0x50, 0x3a, 0x3c, 0xed, 0x94, 0x34, 0xbd,\n",
            "  0xa2, 0x49, 0x53, 0xbe, 0x00, 0x9d, 0xcf, 0x3c, 0x0d, 0x66, 0xe2, 0xbe,\n",
            "  0x24, 0x69, 0xcc, 0xbe, 0x7b, 0x15, 0xd3, 0x3e, 0xa4, 0x6c, 0x48, 0xbe,\n",
            "  0xf4, 0x27, 0x9f, 0x3d, 0xd4, 0x7e, 0x9d, 0xbe, 0x20, 0xd2, 0xc0, 0xbd,\n",
            "  0xcd, 0xcc, 0xc3, 0x3e, 0x5f, 0xce, 0xd3, 0x3e, 0xee, 0x7c, 0x9a, 0x3e,\n",
            "  0xed, 0x7c, 0x1c, 0x3e, 0xd7, 0x89, 0x37, 0xbc, 0x44, 0x97, 0x10, 0xbe,\n",
            "  0xc5, 0x92, 0x54, 0x3e, 0xd5, 0xc1, 0xa0, 0x3e, 0x27, 0xb3, 0x5a, 0x3e,\n",
            "  0xdf, 0xc7, 0x9d, 0x3d, 0xc1, 0xfb, 0x07, 0x3c, 0x45, 0x80, 0xf2, 0x3b,\n",
            "  0xa2, 0xfe, 0xff, 0xff, 0x10, 0x00, 0x00, 0x00, 0x05, 0x00, 0x00, 0x00,\n",
            "  0x14, 0x00, 0x00, 0x00, 0x30, 0x00, 0x00, 0x00, 0x02, 0x00, 0x00, 0x00,\n",
            "  0x14, 0x00, 0x00, 0x00, 0x07, 0x00, 0x00, 0x00, 0x1b, 0x00, 0x00, 0x00,\n",
            "  0x73, 0x65, 0x71, 0x75, 0x65, 0x6e, 0x74, 0x69, 0x61, 0x6c, 0x5f, 0x33,\n",
            "  0x2f, 0x64, 0x65, 0x6e, 0x73, 0x65, 0x5f, 0x36, 0x2f, 0x4d, 0x61, 0x74,\n",
            "  0x4d, 0x75, 0x6c, 0x00, 0x38, 0xfe, 0xff, 0xff, 0x02, 0xff, 0xff, 0xff,\n",
            "  0x04, 0x00, 0x00, 0x00, 0x50, 0x00, 0x00, 0x00, 0x00, 0x00, 0x00, 0x00,\n",
            "  0xc6, 0x40, 0x82, 0x3c, 0x00, 0x00, 0x00, 0x00, 0x00, 0x00, 0x00, 0x00,\n",
            "  0xf8, 0x5f, 0x9b, 0xbb, 0x00, 0x00, 0x00, 0x00, 0x00, 0x00, 0x00, 0x00,\n",
            "  0x00, 0x00, 0x00, 0x00, 0xea, 0xc4, 0x8a, 0xbb, 0x54, 0x06, 0x69, 0x3b,\n",
            "  0x00, 0x00, 0x00, 0x00, 0x33, 0x44, 0x8b, 0xbb, 0x3a, 0x14, 0x53, 0xbb,\n",
            "  0x09, 0x56, 0x7f, 0x3b, 0x00, 0x00, 0x00, 0x00, 0x66, 0xa3, 0x7f, 0x3b,\n",
            "  0xa0, 0x37, 0x04, 0xbc, 0x00, 0x00, 0x00, 0x00, 0xc4, 0x92, 0x82, 0x3b,\n",
            "  0xe4, 0x11, 0x93, 0xbb, 0x42, 0xff, 0xff, 0xff, 0x10, 0x00, 0x00, 0x00,\n",
            "  0x04, 0x00, 0x00, 0x00, 0x10, 0x00, 0x00, 0x00, 0x20, 0x00, 0x00, 0x00,\n",
            "  0x01, 0x00, 0x00, 0x00, 0x14, 0x00, 0x00, 0x00, 0x0c, 0x00, 0x00, 0x00,\n",
            "  0x64, 0x65, 0x6e, 0x73, 0x65, 0x5f, 0x36, 0x2f, 0x62, 0x69, 0x61, 0x73,\n",
            "  0x00, 0x00, 0x00, 0x00, 0xc8, 0xfe, 0xff, 0xff, 0x92, 0xff, 0xff, 0xff,\n",
            "  0x04, 0x00, 0x00, 0x00, 0x28, 0x00, 0x00, 0x00, 0x00, 0x00, 0x00, 0x00,\n",
            "  0x00, 0x00, 0x00, 0x00, 0x00, 0x00, 0x00, 0x00, 0x00, 0x00, 0x00, 0x00,\n",
            "  0x24, 0xd2, 0x83, 0x3b, 0x00, 0x00, 0x00, 0x00, 0x89, 0x78, 0x34, 0x3b,\n",
            "  0xa8, 0xaa, 0x89, 0xbb, 0x47, 0xd0, 0x7e, 0x3b, 0x5d, 0x91, 0x8b, 0xbb,\n",
            "  0xaa, 0xff, 0xff, 0xff, 0x10, 0x00, 0x00, 0x00, 0x03, 0x00, 0x00, 0x00,\n",
            "  0x10, 0x00, 0x00, 0x00, 0x24, 0x00, 0x00, 0x00, 0x01, 0x00, 0x00, 0x00,\n",
            "  0x0a, 0x00, 0x00, 0x00, 0x0c, 0x00, 0x00, 0x00, 0x64, 0x65, 0x6e, 0x73,\n",
            "  0x65, 0x5f, 0x37, 0x2f, 0x62, 0x69, 0x61, 0x73, 0x00, 0x00, 0x00, 0x00,\n",
            "  0x04, 0x00, 0x06, 0x00, 0x04, 0x00, 0x00, 0x00, 0x00, 0x00, 0x06, 0x00,\n",
            "  0x08, 0x00, 0x04, 0x00, 0x06, 0x00, 0x00, 0x00, 0x04, 0x00, 0x00, 0x00,\n",
            "  0x08, 0x00, 0x00, 0x00, 0x57, 0xcb, 0x86, 0xbb, 0x58, 0xcb, 0x86, 0x3b,\n",
            "  0x00, 0x00, 0x0e, 0x00, 0x14, 0x00, 0x04, 0x00, 0x00, 0x00, 0x08, 0x00,\n",
            "  0x0c, 0x00, 0x10, 0x00, 0x0e, 0x00, 0x00, 0x00, 0x10, 0x00, 0x00, 0x00,\n",
            "  0x02, 0x00, 0x00, 0x00, 0x10, 0x00, 0x00, 0x00, 0x1c, 0x00, 0x00, 0x00,\n",
            "  0x01, 0x00, 0x00, 0x00, 0x02, 0x00, 0x00, 0x00, 0x0b, 0x00, 0x00, 0x00,\n",
            "  0x79, 0x5f, 0x70, 0x72, 0x65, 0x64, 0x2f, 0x62, 0x69, 0x61, 0x73, 0x00,\n",
            "  0x90, 0xff, 0xff, 0xff, 0x14, 0x00, 0x18, 0x00, 0x04, 0x00, 0x00, 0x00,\n",
            "  0x08, 0x00, 0x0c, 0x00, 0x10, 0x00, 0x00, 0x00, 0x00, 0x00, 0x14, 0x00,\n",
            "  0x14, 0x00, 0x00, 0x00, 0x14, 0x00, 0x00, 0x00, 0x01, 0x00, 0x00, 0x00,\n",
            "  0x18, 0x00, 0x00, 0x00, 0x44, 0x00, 0x00, 0x00, 0x34, 0x00, 0x00, 0x00,\n",
            "  0x02, 0x00, 0x00, 0x00, 0x01, 0x00, 0x00, 0x00, 0x07, 0x00, 0x00, 0x00,\n",
            "  0x1f, 0x00, 0x00, 0x00, 0x73, 0x65, 0x72, 0x76, 0x69, 0x6e, 0x67, 0x5f,\n",
            "  0x64, 0x65, 0x66, 0x61, 0x75, 0x6c, 0x74, 0x5f, 0x64, 0x65, 0x6e, 0x73,\n",
            "  0x65, 0x5f, 0x36, 0x5f, 0x69, 0x6e, 0x70, 0x75, 0x74, 0x3a, 0x30, 0x00,\n",
            "  0x02, 0x00, 0x00, 0x00, 0xff, 0xff, 0xff, 0xff, 0x07, 0x00, 0x00, 0x00,\n",
            "  0xfc, 0xff, 0xff, 0xff, 0x04, 0x00, 0x04, 0x00, 0x04, 0x00, 0x00, 0x00\n",
            "};\n",
            "unsigned int g_model_len = 3432;\n"
          ],
          "name": "stdout"
        }
      ]
    }
  ]
}